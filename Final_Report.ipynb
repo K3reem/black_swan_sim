{
 "cells": [
  {
   "cell_type": "markdown",
   "id": "d1789246",
   "metadata": {},
   "source": [
    "\n",
    "Supply Chain Black Swan Simulator Report\n",
    "This notebook documents the training, tuning, evaluation, and robustness analysis of a PPO agent on a SimPy-based supply chain environment with black-swan disruptions.\n",
    "\n"
   ]
  },
  {
   "cell_type": "code",
   "execution_count": 3,
   "id": "4150971a",
   "metadata": {},
   "outputs": [],
   "source": [
    "import os\n",
    "import numpy as np\n",
    "import pandas as pd\n",
    "import matplotlib.pyplot as plt\n",
    "from stable_baselines3 import PPO\n",
    "from env.supply_chain_gym import SupplyChainGymEnv"
   ]
  },
  {
   "cell_type": "markdown",
   "id": "4aa83439",
   "metadata": {},
   "source": [
    "Hyperparameter Tuning\n",
    "Below are the best hyperparameters found via Optuna"
   ]
  },
  {
   "cell_type": "code",
   "execution_count": 4,
   "id": "fafcee31",
   "metadata": {},
   "outputs": [
    {
     "data": {
      "text/plain": [
       "{'n_steps': 128,\n",
       " 'gamma': 0.97601,\n",
       " 'learning_rate': 0.0001844,\n",
       " 'ent_coef': 2.1607e-05}"
      ]
     },
     "execution_count": 4,
     "metadata": {},
     "output_type": "execute_result"
    }
   ],
   "source": [
    "# Display best_params from Optuna\n",
    "best_params = {\n",
    "    \"n_steps\": 128,\n",
    "    \"gamma\": 0.97601,\n",
    "    \"learning_rate\": 0.0001844,\n",
    "    \"ent_coef\": 2.1607e-05,\n",
    "}\n",
    "best_params"
   ]
  },
  {
   "cell_type": "markdown",
   "id": "69868adc",
   "metadata": {},
   "source": [
    "Training Curves\n",
    "Inspect action distributions and evaluation reward curves from TensorBoard logs."
   ]
  },
  {
   "cell_type": "code",
   "execution_count": 6,
   "id": "ba4fc9e2",
   "metadata": {},
   "outputs": [
    {
     "data": {
      "text/html": [
       "\n",
       "      <iframe id=\"tensorboard-frame-53c19d253415488\" width=\"100%\" height=\"800\" frameborder=\"0\">\n",
       "      </iframe>\n",
       "      <script>\n",
       "        (function() {\n",
       "          const frame = document.getElementById(\"tensorboard-frame-53c19d253415488\");\n",
       "          const url = new URL(\"/\", window.location);\n",
       "          const port = 6006;\n",
       "          if (port) {\n",
       "            url.port = port;\n",
       "          }\n",
       "          frame.src = url;\n",
       "        })();\n",
       "      </script>\n",
       "    "
      ],
      "text/plain": [
       "<IPython.core.display.HTML object>"
      ]
     },
     "metadata": {},
     "output_type": "display_data"
    }
   ],
   "source": [
    "# Launch TensorBoard in this notebook\n",
    "%load_ext tensorboard\n",
    "%tensorboard --logdir logs/final_model"
   ]
  },
  {
   "cell_type": "markdown",
   "id": "a851814c",
   "metadata": {},
   "source": [
    "Per-Episode Evaluation\n",
    "Plot warehouse stock, production time, delivery time, and reward for sample episodes."
   ]
  },
  {
   "cell_type": "code",
   "execution_count": 8,
   "id": "28bbdecc",
   "metadata": {},
   "outputs": [],
   "source": [
    "import gym\n",
    "import numpy as np\n",
    "import matplotlib.pyplot as plt\n",
    "import torch\n",
    "from stable_baselines3 import PPO"
   ]
  },
  {
   "cell_type": "code",
   "execution_count": 9,
   "id": "cb7ac448",
   "metadata": {},
   "outputs": [
    {
     "name": "stdout",
     "output_type": "stream",
     "text": [
      "Order_1 sourcing at 0\n",
      "Order_1 manufacturing at 4\n",
      "Order_2 sourcing at 4\n",
      "Order_3 sourcing at 8\n",
      "Order_2 manufacturing at 9\n",
      "Order_1 delivered to warehouse at 12\n",
      "Order_1 sourcing at 12\n",
      "Order_3 manufacturing at 14\n",
      "Order_2 delivered to warehouse at 17\n",
      "Order_2 sourcing at 17\n",
      "⚠️ Black Swan Event: factory_strike at time 18\n",
      "   → Factory capacity now 1\n",
      "Order_1 manufacturing at 19\n",
      "Order_3 delivered to warehouse at 22\n",
      "Order_3 sourcing at 22\n",
      "Order_2 manufacturing at 24\n",
      "Order_1 delivered to warehouse at 27\n",
      "Order_1 sourcing at 27\n",
      "Order_3 manufacturing at 29\n",
      "Order_2 delivered to warehouse at 32\n",
      "Order_2 sourcing at 32\n",
      "Order_1 manufacturing at 34\n",
      "⚠️ Black Swan Event: supplier_delay at time 37\n",
      "Order_3 delivered to warehouse at 37\n",
      "Order_3 sourcing at 37\n",
      "Order_2 manufacturing at 39\n",
      "Order_1 delivered to warehouse at 42\n",
      "Order_1 sourcing at 42\n",
      "Order_3 manufacturing at 46\n",
      "Order_2 delivered to warehouse at 49\n",
      "Order_2 sourcing at 49\n"
     ]
    }
   ],
   "source": [
    "from env.supply_chain_env import main\n",
    "\n",
    "main()"
   ]
  }
 ],
 "metadata": {
  "kernelspec": {
   "display_name": ".venv",
   "language": "python",
   "name": "python3"
  },
  "language_info": {
   "codemirror_mode": {
    "name": "ipython",
    "version": 3
   },
   "file_extension": ".py",
   "mimetype": "text/x-python",
   "name": "python",
   "nbconvert_exporter": "python",
   "pygments_lexer": "ipython3",
   "version": "3.9.13"
  }
 },
 "nbformat": 4,
 "nbformat_minor": 5
}
